{
 "cells": [
  {
   "cell_type": "code",
   "execution_count": 2,
   "metadata": {},
   "outputs": [],
   "source": [
    "import numpy as np\n",
    "from math import factorial, exp\n",
    "from scipy.stats import poisson, binom"
   ]
  },
  {
   "cell_type": "code",
   "execution_count": 3,
   "metadata": {},
   "outputs": [],
   "source": [
    "def сombination(n, k):\n",
    "    return int(factorial(n) / (factorial(k) * factorial(n - k)))"
   ]
  },
  {
   "cell_type": "markdown",
   "metadata": {},
   "source": [
    "Урок 2. Дискретные случайные величины. Закон распределения вероятностей. Биномиальный закон распределения. Распределение Пуассона"
   ]
  },
  {
   "cell_type": "markdown",
   "metadata": {},
   "source": [
    "Домашнее задание"
   ]
  },
  {
   "cell_type": "markdown",
   "metadata": {},
   "source": [
    "Задача 1\n",
    "\n",
    "Контрольная работа состоит из пяти вопросов. На каждый вопрос приведено четыре варианта ответа, один из которых правильный. Составьте закон распределения числа правильных ответов при простом угадывании. Найдите M(X), D(X)."
   ]
  },
  {
   "cell_type": "code",
   "execution_count": 7,
   "metadata": {},
   "outputs": [
    {
     "name": "stdout",
     "output_type": "stream",
     "text": [
      "закон распределения числа правильных ответов \n",
      " [(0, 0.2373046875), (1, 0.3955078125), (2, 0.263671875), (3, 0.087890625), (4, 0.0146484375), (5, 0.0009765625)]\n",
      "математическое ожидание \n",
      " 1.25\n",
      "Дисперсия \n",
      " 0.9375\n"
     ]
    }
   ],
   "source": [
    "p=0.25 # вероятность правильного ответа\n",
    "n=5 # Количество вопросов\n",
    "Px=[]\n",
    "Mx=n*p\n",
    "Dx=n*p*(1-p)\n",
    "for x in range(n+1):\n",
    "    Pxx = сombination(n,x) * p**x * (1-p)**(n-x)\n",
    "    Px.append((x, Pxx))\n",
    "    \n",
    "print('закон распределения числа правильных ответов','\\n', Px)\n",
    "print('математическое ожидание','\\n', Mx)\n",
    "print('Дисперсия','\\n', Dx)"
   ]
  },
  {
   "cell_type": "markdown",
   "metadata": {},
   "source": [
    "Задача 2\n",
    "\n",
    "Пользователь получает в среднем 10 писем со спамом на свой почтовый ящик за сутки. Найти число N, такое, что с вероятностью 0.95 пользователь получит не более N писем со спамом за текущий день."
   ]
  },
  {
   "cell_type": "code",
   "execution_count": 7,
   "metadata": {},
   "outputs": [],
   "source": [
    "def proba(k:int, l: int) -> float:\n",
    "    return (l ** k) * np.exp(-l) / np.math.factorial(k)"
   ]
  },
  {
   "cell_type": "code",
   "execution_count": 8,
   "metadata": {},
   "outputs": [
    {
     "data": {
      "text/plain": [
       "(15, 0.9512595966960214)"
      ]
     },
     "execution_count": 8,
     "metadata": {},
     "output_type": "execute_result"
    }
   ],
   "source": [
    "n = -1\n",
    "l = 10\n",
    "p = 0\n",
    "\n",
    "while p < 0.95:\n",
    "    n += 1\n",
    "    p += proba(n, l)\n",
    "    \n",
    "n, p"
   ]
  },
  {
   "cell_type": "markdown",
   "metadata": {},
   "source": [
    "Задача 3\n",
    "\n",
    "Производятся выстрелы по мишени. Вероятность попадания в мишень при одном выстреле равна 0.01. Сколько выстрелов нужно сделать чтобы быть уверенным с вероятностью 0.9, что хотя бы 6 раз будет совершено попадание?\n",
    "\n",
    "Подсказка. 1) \"Вероятность попасть k раз при n выстрелах\" - на какое распределение это похоже? 2) А если нам нужна вероятность P(X >= k), а не P(X = k)? 3) Здесь предстоит немножко покодить."
   ]
  },
  {
   "cell_type": "code",
   "execution_count": 9,
   "metadata": {},
   "outputs": [],
   "source": [
    "from datetime import datetime"
   ]
  },
  {
   "cell_type": "code",
   "execution_count": 10,
   "metadata": {},
   "outputs": [],
   "source": [
    "def combinations(n: int, k: int) -> int:\n",
    "    \"\"\"Число сочетаний.\n",
    "    \"\"\"\n",
    "    \n",
    "    return np.math.factorial(n) // (np.math.factorial(k) * np.math.factorial(n - k))"
   ]
  },
  {
   "cell_type": "code",
   "execution_count": 28,
   "metadata": {},
   "outputs": [],
   "source": [
    "def binom_proba(n: int, k: int, p: float) -> float:\n",
    "    \"\"\"формула бернулли.\n",
    "    \"\"\"\n",
    "    return combinations(n, k) * (p ** k) * ((1-p)**(n - k))"
   ]
  },
  {
   "cell_type": "code",
   "execution_count": 25,
   "metadata": {},
   "outputs": [],
   "source": [
    "def binom_proba_geq(n: int, k: int, p: float) -> float:\n",
    "    \"\"\"Вероятность P(X>= k) для биномиального распределения\n",
    "    \"\"\"\n",
    "    return 1 - sum(binom_proba(n, i, p) for i in range(k))"
   ]
  },
  {
   "cell_type": "code",
   "execution_count": 29,
   "metadata": {},
   "outputs": [
    {
     "name": "stdout",
     "output_type": "stream",
     "text": [
      "\n",
      "200\t0.01602290690917929\n",
      "\n",
      "400\t0.21408092149896019\n",
      "\n",
      "600\t0.5551279698323172\n",
      "\n",
      "800\t0.810143551899295\n",
      "\n",
      "Ответ:\n",
      "926\t0.9003627121531355\n",
      "Потрачено времени: 0:00:00.144323\n"
     ]
    }
   ],
   "source": [
    "t1 = datetime.now()\n",
    "\n",
    "p = 0.01\n",
    "P = 0\n",
    "k = 6\n",
    "n = 9\n",
    "\n",
    "while P < 0.9:\n",
    "    n += 1\n",
    "    P = binom_proba_geq(n, k, p)\n",
    "    \n",
    "    if n % 200==0:\n",
    "        print(f'\\n{n}\\t{P}')\n",
    "        \n",
    "print(f'\\nОтвет:\\n{n}\\t{P}')  \n",
    "t2 = datetime.now()\n",
    "print(f'Потрачено времени: {t2 - t1}')"
   ]
  }
 ],
 "metadata": {
  "kernelspec": {
   "display_name": "Python 3",
   "language": "python",
   "name": "python3"
  },
  "language_info": {
   "codemirror_mode": {
    "name": "ipython",
    "version": 3
   },
   "file_extension": ".py",
   "mimetype": "text/x-python",
   "name": "python",
   "nbconvert_exporter": "python",
   "pygments_lexer": "ipython3",
   "version": "3.7.4"
  }
 },
 "nbformat": 4,
 "nbformat_minor": 2
}
