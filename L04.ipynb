{
 "cells": [
  {
   "cell_type": "code",
   "execution_count": 7,
   "metadata": {},
   "outputs": [],
   "source": [
    "import pandas as pd\n",
    "import numpy as np\n",
    "from scipy.special import erf\n",
    "from scipy import stats"
   ]
  },
  {
   "cell_type": "markdown",
   "metadata": {},
   "source": [
    "ДЗ 4"
   ]
  },
  {
   "cell_type": "markdown",
   "metadata": {},
   "source": [
    "__Задача 1__\n",
    "\n",
    "О непрерывной равномерно распределённой случайной величине `B` известно, что её дисперсия равна 0.2. Можно ли найти правую границу величины `B` и её среднее значение зная, что левая граница равна 0.5? Если да, найдите их."
   ]
  },
  {
   "cell_type": "markdown",
   "metadata": {},
   "source": [
    "Дисперсия:\n",
    "$$D(B) = \\dfrac{(b - a)^2}{12}$$\n",
    "$$D(B) = 0.2$$\n",
    "$$a = 0.5$$\n",
    "$$b = a + {(12 * D(B))^{1/2}}$$"
   ]
  },
  {
   "cell_type": "code",
   "execution_count": 5,
   "metadata": {},
   "outputs": [
    {
     "name": "stdout",
     "output_type": "stream",
     "text": [
      "Правая граница величины B равна 2.049193338482967\n"
     ]
    }
   ],
   "source": [
    "b = 0.5 + (12*0.2)**0.5\n",
    "print(f'Правая граница величины B равна {b}')"
   ]
  },
  {
   "cell_type": "markdown",
   "metadata": {},
   "source": [
    "__Задача 2__\n",
    "\n",
    "Коробки с шоколадом упаковываются автоматически. Их средняя масса равна 1.06 кг. Известно, что 5% коробок имеют массу, меньшую 1 кг. Найдите: а) среднее квадратическое отклонение массы коробки, б) процент коробок, имеющих массу больше 1.1 кг.\n",
    "\n",
    "_Подсказка_. Найдите такое значение `scale`, для которого значение `cdf(x=1, loc=1.06, scale=scale)` близко к 0.05. Точности 0.0001 будет достаточно."
   ]
  },
  {
   "cell_type": "code",
   "execution_count": 29,
   "metadata": {},
   "outputs": [
    {
     "name": "stdout",
     "output_type": "stream",
     "text": [
      "среднее квадратическое отклонение массы коробки = 0.03650000000000002\n"
     ]
    }
   ],
   "source": [
    "Fn = 0.05\n",
    "Fx = 0\n",
    "scale = 0\n",
    "acuracy = 0.0001\n",
    "while Fn - Fx > acuracy:\n",
    "    scale += 0.0001\n",
    "    Fx = stats.norm.cdf(x=1, loc=1.06, scale=scale)\n",
    "print (f'среднее квадратическое отклонение массы коробки = {scale}')     "
   ]
  },
  {
   "cell_type": "code",
   "execution_count": 30,
   "metadata": {},
   "outputs": [
    {
     "name": "stdout",
     "output_type": "stream",
     "text": [
      "процент коробок, имеющих массу больше 1.1 кг = 13.656336797447777%\n"
     ]
    }
   ],
   "source": [
    "x = 1.1\n",
    "Fx = stats.norm.cdf(x=x, loc=1.06, scale=scale)\n",
    "print(f'процент коробок, имеющих массу больше 1.1 кг = {(1-Fx)*100}%')"
   ]
  },
  {
   "cell_type": "markdown",
   "metadata": {},
   "source": [
    "__Задача 3__\n",
    "\n",
    "Коробка содержит 30 конфет. Известно, что масса каждой конфеты распределена равномерно в промежутке от 12 до 14 граммов. Используя центральную предельную теорему, найти вероятность, что масса всей коробки будет: а) меньше 390 граммов, б) больше 395 граммов, в) от 380 до 400 граммов.\n",
    "\n",
    "Массой самой коробки можно пренебречь."
   ]
  },
  {
   "cell_type": "markdown",
   "metadata": {},
   "source": [
    "__Центральная предельная теорема__ утверждает: чем больше $n$, тем _ближе_ распределение величины $Y$ к нормальному распределению с параметрами\n",
    "$$\\mu = n \\cdot M(X), \\:\\: \\sigma^2 = n \\cdot D(X)$$\n",
    "\n",
    "с учетом того, что:\n",
    "\n",
    "Математическое ожидание и дисперсия равномерного распределения:\n",
    "$$M(X) = \\dfrac{a + b}{2}, \\:\\: D(X) = \\dfrac{(b - a)^2}{12}.$$"
   ]
  },
  {
   "cell_type": "code",
   "execution_count": 46,
   "metadata": {},
   "outputs": [
    {
     "data": {
      "text/plain": [
       "(390.0, 3.1622776601683795)"
      ]
     },
     "execution_count": 46,
     "metadata": {},
     "output_type": "execute_result"
    }
   ],
   "source": [
    "loc = 30 * (12+14)/2\n",
    "scale = (30 * ((14 - 12)**2)/12)**0.5\n",
    "loc, scale"
   ]
  },
  {
   "cell_type": "code",
   "execution_count": 47,
   "metadata": {},
   "outputs": [
    {
     "data": {
      "text/plain": [
       "(0.5, 0.056923149003329065, 0.9984345977419975)"
      ]
     },
     "execution_count": 47,
     "metadata": {},
     "output_type": "execute_result"
    }
   ],
   "source": [
    "Pа = stats.norm.cdf(x=390, loc=loc, scale=scale)\n",
    "Pб = 1 - stats.norm.cdf(x=395, loc=loc, scale=scale)\n",
    "Pв = stats.norm.cdf(x=400, loc=loc, scale=scale) - stats.norm.cdf(x=380, loc=loc, scale=scale)\n",
    "Pа, Pб, Pв "
   ]
  }
 ],
 "metadata": {
  "kernelspec": {
   "display_name": "Python 3",
   "language": "python",
   "name": "python3"
  },
  "language_info": {
   "codemirror_mode": {
    "name": "ipython",
    "version": 3
   },
   "file_extension": ".py",
   "mimetype": "text/x-python",
   "name": "python",
   "nbconvert_exporter": "python",
   "pygments_lexer": "ipython3",
   "version": "3.7.4"
  }
 },
 "nbformat": 4,
 "nbformat_minor": 2
}
