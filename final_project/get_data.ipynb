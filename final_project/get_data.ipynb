{
 "cells": [
  {
   "cell_type": "markdown",
   "metadata": {},
   "source": [
    "## Сбор данных"
   ]
  },
  {
   "cell_type": "code",
   "execution_count": 25,
   "metadata": {},
   "outputs": [],
   "source": [
    "import numpy as np\n",
    "import pandas as pd\n",
    "from scipy import stats\n",
    "from matplotlib import pyplot as plt\n",
    "plt.style.use('seaborn-whitegrid')\n",
    "import datetime\n",
    "import get_trands as gt\n",
    "import asyncio\n",
    "import aiomoex"
   ]
  },
  {
   "cell_type": "code",
   "execution_count": 27,
   "metadata": {},
   "outputs": [
    {
     "data": {
      "text/plain": [
       "<aiomoex.requests.ISSClientSession at 0x144115970>"
      ]
     },
     "execution_count": 27,
     "metadata": {},
     "output_type": "execute_result"
    }
   ],
   "source": [
    "aiomoex.ISSClientSession()"
   ]
  },
  {
   "cell_type": "markdown",
   "metadata": {},
   "source": [
    "### Список источников данных. \n",
    "Данные выбирались исходя из моего предположения о их вероятном влиянии на целевую переменную, и исходя из легкости добычи этих данных в свободном доступе \n",
    "(т.е. бесплатно). Возможно выбор был несколько дилетанский):\n",
    "1. фьючерс на горячекатную сталь, индекс 'SHFE/HC2020', link - https://www.quandl.com/data/SHFE\n",
    "2. фьючерс на арматуру, индекс 'SHFE/RB2020',link - https://www.quandl.com/data/SHFE\n",
    "3. спот на железную руду, индекс 'ODA/PIORECR_USD', China import Iron Ore Fines 62% FE spot (CFR Tianjin port); US dollars per metric ton, https://www.quandl.com/data/ODA/PIORECR_USD-China-import-Iron-Ore-Fines-62-FE-spot-CFR-Tianjin-port-US-dollars-per-metric-ton\n",
    "4. спот SANDUR MANGANESE & IRON ORES LTD. EOD Prices, 'BSE/BOM504918', https://www.quandl.com/data/BSE/BOM504918-SANDUR-MANGANESE-IRON-ORES-LTD-EOD-Prices\n",
    "5. Trade in Goods: Metal ores & scrap (28): EU: Exports: BOP: CVM: SA (Monthly), \"UKONS/MBDM_M\", https://www.quandl.com/data/UKONS/MBDM_M-Trade-in-Goods-Metal-ores-scrap-28-EU-Exports-BOP-CVM-SA-Monthly\n",
    "6. Input-Output Price Index of the Manufacturing Industry by Sector (2011 base)/ Output Price Index/ Manufacturing industry sector, 'BOJ/PRIO11_8A1050003', https://www.quandl.com/data/BOJ/PRIO11_8A1050003-Input-Output-Price-Index-of-the-Manufacturing-Industry-by-Sector-2011-base-Output-Price-Index-Manufacturing-industry-sector-Output-Commodity-group-__Scrap-generated-by-Metal-products-for-construction-and-architecture\n",
    "7. Producer Price Index for Industrial Products (The same month last year=100), Metal Scraps and Dross Processing, 'NBSC/A010B1001_M', https://www.quandl.com/data/NBSC/A010B1001_M-Producer-Price-Index-for-Industrial-Products-The-same-month-last-year-100-Metal-Scraps-and-Dross-Processing-National-Data-Monthly\n",
    "\n",
    "8. Публичное акционерное общество \"Горно-металлургическая компания \"Норильский никель\", MOEX 'GMKN' \n",
    "9. Полиметалл Интернэшнл плс (Polymetal International plc), MOEX 'POLY' \n",
    "10. Публичное акционерное общество \"Магнитогорский металлургический комбинат\", MOEX 'MAGN'\n",
    "11. акции Северстали, MOEX 'CHMF'\n",
    "12. Акционерное общество \"Холдинговая компания \"МЕТАЛЛОИНВЕСТ\", MOEX 'RU000A0JTLJ3' \n",
    "\n",
    "13. Публичное акционерное общество \"Нефтяная компания \"ЛУКОЙЛ\",   MOEX 'LKOH' \n",
    "14. Публичное акционерное общество \"Нефтяная компания \"Роснефть\", MOEX 'ROSN' \n",
    "\n",
    "15. курс usdrub на 'https://min-api.cryptocompare.com/data/v2/histoday?fsym={}&tsym={}&limit={}'.format(from_pair, to_pair, limit)\n",
    "16. курс cnyrub на 'https://min-api.cryptocompare.com/data/v2/histoday?fsym={}&tsym={}&limit={}'.format(from_pair, to_pair, limit)"
   ]
  },
  {
   "cell_type": "code",
   "execution_count": 28,
   "metadata": {},
   "outputs": [
    {
     "data": {
      "text/plain": [
       "' Далее данные сложены в файлы (в составе проекета), поэтому данная ячейка нужна только один раз и я ее закомменчиваю'"
      ]
     },
     "execution_count": 28,
     "metadata": {},
     "output_type": "execute_result"
    }
   ],
   "source": [
    "''' Собираем данные'''\n",
    "''' Для для простоты разработана библиотека get_trands.py к которой мы обращаемся из данного ноутбука'''\n",
    "''' Далее данные сложены в файлы (в составе проекета), поэтому данная ячейка нужна только один раз и я ее закомменчиваю'''\n",
    "\n",
    "# ''' Целевые датасеты на стоимость металла '''\n",
    "# gt.get_futur_quandl('SHFE/', 'HC', 2015) # target 1\n",
    "# gt.get_futur_quandl('SHFE/', 'RB', 2015) # target 2\n",
    "\n",
    "# ''' статистика по производству железной руды и металлолома '''\n",
    "# gt.get_spot_quandl('ODA/PIORECR_USD', '2015-01-01')# импорт руды в Китай 3\n",
    "# gt.get_spot_quandl('BSE/BOM504918', '2015-01-01')# руда индия 4\n",
    "# gt.get_spot_quandl('UKONS/MBDM_M', '2015-01-01')# руда и лом статистика по индустрии UK 5\n",
    "# gt.get_spot_quandl('BOJ/PRIO11_8A1050003', '2015-01-01')# руда и лом статистика по индустрии Китай 6\n",
    "# gt.get_spot_quandl('NBSC/A010B1001_M', '2015-01-01')# руда и лом статистика по индустрии Китай 7\n",
    "\n",
    "# ''' данные по акциям металургических компаний'''\n",
    "# GMKN = pd.DataFrame(await aiomoex.get_board_history('GMKN')) # акция Норникель 8\n",
    "# GMKN.to_csv('GMKN.csv', index=True) \n",
    "# POLY = pd.DataFrame(await aiomoex.get_board_history('POLY')) # акция Полиметалл Интернэшнл 9\n",
    "# POLY.to_csv('POLY.csv', index=True) \n",
    "# MAGN = pd.DataFrame(await aiomoex.get_board_history('MAGN')) # акция Магнитогорский металлургический комбинат 10\n",
    "# MAGN.to_csv('MAGN.csv', index=True) \n",
    "# CHMF = pd.DataFrame(await aiomoex.get_board_history('CHMF')) # акция Северсталь 11\n",
    "# CHMF.to_csv('CHMF.csv', index=True) \n",
    "# # MINVEST = pd.DataFrame(await aiomoex.get_board_history('RU000A0JTLJ3')) # облигация МЕТАЛЛОИНВЕСТ 12\n",
    "# # MINVEST.to_csv('MINVEST.csv', index=True) \n",
    "\n",
    "# ''' данные по акциям нефтяных компаний'''\n",
    "# LKOH = pd.DataFrame(await aiomoex.get_board_history('LKOH')) # акция Лукойл 13\n",
    "# LKOH.to_csv('LKOH.csv', index=True) \n",
    "# ROSN = pd.DataFrame(await aiomoex.get_board_history('ROSN')) # акция Роснефть 14\n",
    "# ROSN.to_csv('ROSN.csv', index=True) \n",
    "\n",
    "# ''' курсы валют'''\n",
    "# gt.currency('CNY','RUB',5*365)\n",
    "# gt.currency('USD','RUB',5*365)\n"
   ]
  },
  {
   "cell_type": "code",
   "execution_count": 29,
   "metadata": {},
   "outputs": [],
   "source": [
    "''' Целевые датасеты на стоимость металла '''\n",
    "hc = pd.read_csv('SHFEHC.csv')\n",
    "rb = pd.read_csv('SHFERB.csv')\n",
    "\n",
    "''' статистика по производству железгной руды и металлолома '''\n",
    "ore1 = pd.read_csv('ODAPIORECR_USD.csv')# импорт руды в Китай 3\n",
    "ore2 = pd.read_csv('BSEBOM504918.csv')# руда индия 4\n",
    "ore3 = pd.read_csv('UKONSMBDM_M.csv')# руда и лом статистика по индустрии UK 5\n",
    "ore4 = pd.read_csv('BOJPRIO11_8A1050003.csv')# руда и лом статистика по индустрии Китай 6\n",
    "ore5 = pd.read_csv('NBSCA010B1001_M.csv')# руда и лом статистика по индустрии Китай 7\n",
    "\n",
    "''' данные по акциям металургических компаний'''\n",
    "GMKN = pd.read_csv('GMKN.csv') \n",
    "POLY = pd.read_csv('POLY.csv') \n",
    "MAGN = pd.read_csv('MAGN.csv') \n",
    "CHMF = pd.read_csv('CHMF.csv') \n",
    "MINVEST = pd.read_csv('MINVEST.csv') \n",
    "\n",
    "''' данные по акциям нефтяных компаний'''\n",
    "LKOH = pd.read_csv('LKOH.csv') \n",
    "ROSN = pd.read_csv('ROSN.csv') \n",
    "\n",
    "''' курсы валют'''\n",
    "cnyrub = pd.read_csv('CNYRUB.csv')\n",
    "usdrub = pd.read_csv('USDRUB.csv')"
   ]
  },
  {
   "cell_type": "code",
   "execution_count": 30,
   "metadata": {},
   "outputs": [],
   "source": [
    "''' конвертируем даты в формат datatime, делаем одинаковые столбцы и удаляем ненужные данные'''\n",
    "\n",
    "hc['ds'] = hc['Date'].apply(gt.strToDate)\n",
    "hc['hc'] = hc['Settle']\n",
    "hc = hc[['ds','hc']]\n",
    "\n",
    "rb['ds'] = rb['Date'].apply(gt.strToDate)\n",
    "rb['rb'] = rb['Settle']\n",
    "rb = rb[['ds','rb']]\n",
    "\n",
    "ore1['ds'] = ore1['Date'].apply(gt.strToDate)\n",
    "ore1['ore1'] = ore1['Value']\n",
    "ore1 = ore1[['ds','ore1']]\n",
    "\n",
    "ore2['ds'] = ore2['Date'].apply(gt.strToDate)\n",
    "ore2['ore2'] = ore2['Close']\n",
    "ore2 = ore2[['ds','ore2']]\n",
    "\n",
    "ore3['ds'] = ore3['Date'].apply(gt.strToDate)\n",
    "ore3['ore3'] = ore3['Value']\n",
    "ore3 = ore3[['ds','ore3']]\n",
    "\n",
    "ore4['ds'] = ore4['Date'].apply(gt.strToDate)\n",
    "ore4['ore4'] = ore4['Value']\n",
    "ore4 = ore4[['ds','ore4']]\n",
    "\n",
    "ore5['ds'] = ore5['Date'].apply(gt.strToDate)\n",
    "ore5['ore5'] = ore5['Value']\n",
    "ore5 = ore5[['ds','ore5']]\n",
    "\n",
    "GMKN['ds'] = GMKN['TRADEDATE'].apply(gt.strToDate)\n",
    "GMKN['GMKN'] = GMKN['CLOSE']\n",
    "GMKN = GMKN[['ds','GMKN']]\n",
    "\n",
    "POLY['ds'] = POLY['TRADEDATE'].apply(gt.strToDate)\n",
    "POLY['POLY'] = POLY['CLOSE']\n",
    "POLY = POLY[['ds','POLY']]\n",
    "\n",
    "MAGN['ds'] = MAGN['TRADEDATE'].apply(gt.strToDate)\n",
    "MAGN['MAGN'] = MAGN['CLOSE']\n",
    "MAGN = MAGN[['ds','MAGN']]\n",
    "\n",
    "LKOH['ds'] = LKOH['TRADEDATE'].apply(gt.strToDate)\n",
    "LKOH['LKOH'] = LKOH['CLOSE']\n",
    "LKOH = LKOH[['ds','LKOH']]\n",
    "\n",
    "ROSN['ds'] = ROSN['TRADEDATE'].apply(gt.strToDate)\n",
    "ROSN['ROSN'] = ROSN['CLOSE']\n",
    "ROSN = ROSN[['ds','ROSN']]\n",
    "\n",
    "cnyrub['ds'] = cnyrub['date'].apply(gt.strToDate)\n",
    "cnyrub['cnyrub'] = cnyrub['close']\n",
    "cnyrub = cnyrub[['ds','cnyrub']]\n",
    "\n",
    "usdrub['ds'] = usdrub['date'].apply(gt.strToDate)\n",
    "usdrub['usdrub'] = usdrub['close']\n",
    "usdrub = usdrub[['ds','usdrub']]"
   ]
  },
  {
   "cell_type": "code",
   "execution_count": 31,
   "metadata": {},
   "outputs": [],
   "source": [
    "''' Объединяем в один датафрейм'''\n",
    "hc = hc.merge(ore1, left_on = 'ds', right_on = 'ds', how = \"left\")\n",
    "hc = hc.merge(rb, left_on = 'ds', right_on = 'ds', how = \"left\")\n",
    "hc = hc.merge(ore2, left_on = 'ds', right_on = 'ds', how = \"left\")\n",
    "hc = hc.merge(ore3, left_on = 'ds', right_on = 'ds', how = \"left\")\n",
    "hc = hc.merge(ore4, left_on = 'ds', right_on = 'ds', how = \"left\")\n",
    "hc = hc.merge(ore5, left_on = 'ds', right_on = 'ds', how = \"left\")\n",
    "hc = hc.merge(GMKN, left_on = 'ds', right_on = 'ds', how = \"left\")\n",
    "hc = hc.merge(POLY, left_on = 'ds', right_on = 'ds', how = \"left\")\n",
    "hc = hc.merge(MAGN, left_on = 'ds', right_on = 'ds', how = \"left\")\n",
    "hc = hc.merge(LKOH, left_on = 'ds', right_on = 'ds', how = \"left\")\n",
    "hc = hc.merge(ROSN, left_on = 'ds', right_on = 'ds', how = \"left\")\n",
    "hc = hc.merge(cnyrub, left_on = 'ds', right_on = 'ds', how = \"left\")\n",
    "hc = hc.merge(usdrub, left_on = 'ds', right_on = 'ds', how = \"left\")"
   ]
  },
  {
   "cell_type": "code",
   "execution_count": 32,
   "metadata": {},
   "outputs": [],
   "source": [
    "''' заполняем пропуски'''\n",
    "hc = hc.fillna(method = 'ffill')\n",
    "hc = hc.fillna(method = 'bfill')"
   ]
  },
  {
   "cell_type": "code",
   "execution_count": 33,
   "metadata": {},
   "outputs": [],
   "source": [
    "hc.to_csv('all_data.csv', index=True)"
   ]
  },
  {
   "cell_type": "code",
   "execution_count": 34,
   "metadata": {},
   "outputs": [
    {
     "name": "stdout",
     "output_type": "stream",
     "text": [
      "<class 'pandas.core.frame.DataFrame'>\n",
      "Int64Index: 1546 entries, 0 to 1545\n",
      "Data columns (total 15 columns):\n",
      " #   Column  Non-Null Count  Dtype         \n",
      "---  ------  --------------  -----         \n",
      " 0   ds      1546 non-null   datetime64[ns]\n",
      " 1   hc      1546 non-null   float64       \n",
      " 2   ore1    1546 non-null   float64       \n",
      " 3   rb      1546 non-null   float64       \n",
      " 4   ore2    1546 non-null   float64       \n",
      " 5   ore3    1546 non-null   float64       \n",
      " 6   ore4    1546 non-null   float64       \n",
      " 7   ore5    1546 non-null   float64       \n",
      " 8   GMKN    1546 non-null   float64       \n",
      " 9   POLY    1546 non-null   float64       \n",
      " 10  MAGN    1546 non-null   float64       \n",
      " 11  LKOH    1546 non-null   float64       \n",
      " 12  ROSN    1546 non-null   float64       \n",
      " 13  cnyrub  1546 non-null   float64       \n",
      " 14  usdrub  1546 non-null   float64       \n",
      "dtypes: datetime64[ns](1), float64(14)\n",
      "memory usage: 193.2 KB\n"
     ]
    }
   ],
   "source": [
    "''' проверяем что все норм'''\n",
    "hc.info()"
   ]
  },
  {
   "cell_type": "code",
   "execution_count": null,
   "metadata": {},
   "outputs": [],
   "source": []
  }
 ],
 "metadata": {
  "kernelspec": {
   "display_name": "Python 3",
   "language": "python",
   "name": "python3"
  },
  "language_info": {
   "codemirror_mode": {
    "name": "ipython",
    "version": 3
   },
   "file_extension": ".py",
   "mimetype": "text/x-python",
   "name": "python",
   "nbconvert_exporter": "python",
   "pygments_lexer": "ipython3",
   "version": "3.8.3"
  }
 },
 "nbformat": 4,
 "nbformat_minor": 4
}
