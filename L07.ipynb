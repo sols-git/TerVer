{
 "cells": [
  {
   "cell_type": "markdown",
   "metadata": {},
   "source": [
    "## Домашнее задание по лекции 7"
   ]
  },
  {
   "cell_type": "code",
   "execution_count": 354,
   "metadata": {},
   "outputs": [],
   "source": [
    "import numpy as np\n",
    "import pandas as pd\n",
    "from scipy import stats\n",
    "from matplotlib import pyplot as plt\n",
    "plt.style.use('seaborn-whitegrid')"
   ]
  },
  {
   "cell_type": "markdown",
   "metadata": {},
   "source": [
    "__Задача 1__\n",
    "\n",
    "Дана матрица объект-признак\n",
    "```\n",
    "X = [[ 1.22401313,  2.30868478,  3.03636353,  2.69287214],\n",
    "     [-0.18757272,  1.30337355,  5.12093014,  3.46363202],\n",
    "     [-0.81094525,  1.82463398,  5.79686488,  1.86159445],\n",
    "     [ 0.75129018,  2.67392052,  3.65529809,  1.66746094],\n",
    "     [ 0.00972362,  1.97367255,  2.50594319,  1.69755173],\n",
    "     [-0.62972637,  0.77750764,  2.84124027,  4.54410559],\n",
    "     [ 2.29536229,  1.81206697,  1.95026215,  1.51874636],\n",
    "     [ 0.0920418 ,  2.26971361,  7.47708735,  2.61081203],\n",
    "     [ 2.39252799,  3.17563985,  3.61420599,  5.10773362],\n",
    "     [ 0.54983815,  2.87988651,  1.65752765,  1.59635987]]\n",
    "```\n",
    "и значения целевой переменной\n",
    "```\n",
    "y = [ 9.26193358,  9.700363  ,  8.67214805,  8.74796974,  6.18689108,\n",
    "      7.53312713,  7.57643777, 12.44965478, 14.29010746,  6.68361218]\n",
    "```\n",
    "\n",
    "1. Подберите два признака (из четырёх) так, чтобы уровень линейной зависимости целевой переменной от значений этих признаков был максимальным. Другими словами, модель линейной регрессии на этих признаках должна давать наилучший результат.\n",
    "2. Является ли значимым получившееся уравнение регрессии?"
   ]
  },
  {
   "cell_type": "code",
   "execution_count": 260,
   "metadata": {},
   "outputs": [],
   "source": [
    "def sum_of_squares(samples: np.ndarray) -> float:\n",
    "    return ((samples - samples.mean()) ** 2).sum()"
   ]
  },
  {
   "cell_type": "code",
   "execution_count": 286,
   "metadata": {},
   "outputs": [],
   "source": [
    "def f_chose(x, y):\n",
    "    factor = x.columns\n",
    "    ones = np.ones((x.shape[0], 1))\n",
    "    x = np.column_stack((ones, x))\n",
    "    XTX = x.T.dot(x)\n",
    "    det = np.linalg.det(XTX)\n",
    "    XTX_inv = np.linalg.inv(XTX)\n",
    "    b = XTX_inv.dot(x.T).dot(y)\n",
    "    z = x.dot(b)\n",
    "    e = y - z\n",
    "    ae = e.mean()\n",
    "#     print('average error = ', float(ae))\n",
    "    R = 1 - sum_of_squares(e) / sum_of_squares(y)\n",
    "#     print('R =', float(R))\n",
    "    z.var(), y.var()\n",
    "    n = x.shape[0]\n",
    "    m = 1\n",
    "    k1 = m\n",
    "    k2 = n - m - 1\n",
    "    k1, k2\n",
    "    alpha = 0.05\n",
    "    t = stats.f.ppf(1 - alpha, k1, k2)\n",
    "#     print('quantile =', t)\n",
    "    F = (R / k1) / ((1 - R) / k2)\n",
    "#     print('statistic=', float(F))\n",
    "    significancy = ''\n",
    "    if float(F) > float(t):\n",
    "        significancy = 'уравнение регрессии признаётся значимым'\n",
    "    else:\n",
    "        significancy = 'уравнение регрессии НЕ признаётся значимым'\n",
    "       \n",
    "    info = {'factor': factor, 'determ': det, 'average error': float(ae), 'R': float(R), 'statistic':float(F), 'significancy': significancy}\n",
    "    return info"
   ]
  },
  {
   "cell_type": "code",
   "execution_count": 262,
   "metadata": {},
   "outputs": [],
   "source": [
    "X = [[ 1.22401313,  2.30868478,  3.03636353,  2.69287214],\n",
    "     [-0.18757272,  1.30337355,  5.12093014,  3.46363202],\n",
    "     [-0.81094525,  1.82463398,  5.79686488,  1.86159445],\n",
    "     [ 0.75129018,  2.67392052,  3.65529809,  1.66746094],\n",
    "     [ 0.00972362,  1.97367255,  2.50594319,  1.69755173],\n",
    "     [-0.62972637,  0.77750764,  2.84124027,  4.54410559],\n",
    "     [ 2.29536229,  1.81206697,  1.95026215,  1.51874636],\n",
    "     [ 0.0920418 ,  2.26971361,  7.47708735,  2.61081203],\n",
    "     [ 2.39252799,  3.17563985,  3.61420599,  5.10773362],\n",
    "     [ 0.54983815,  2.87988651,  1.65752765,  1.59635987]]\n",
    "y = [ 9.26193358,  9.700363  ,  8.67214805,  8.74796974,  6.18689108,\n",
    "      7.53312713,  7.57643777, 12.44965478, 14.29010746,  6.68361218]"
   ]
  },
  {
   "cell_type": "code",
   "execution_count": 263,
   "metadata": {},
   "outputs": [],
   "source": [
    "X = pd.DataFrame(X)\n",
    "y = pd.DataFrame(y)"
   ]
  },
  {
   "cell_type": "code",
   "execution_count": 287,
   "metadata": {},
   "outputs": [
    {
     "name": "stdout",
     "output_type": "stream",
     "text": [
      "R2 = 0.7634246238793152, выбрались 2й и 3й столбцы\n"
     ]
    },
    {
     "data": {
      "text/html": [
       "<div>\n",
       "<style scoped>\n",
       "    .dataframe tbody tr th:only-of-type {\n",
       "        vertical-align: middle;\n",
       "    }\n",
       "\n",
       "    .dataframe tbody tr th {\n",
       "        vertical-align: top;\n",
       "    }\n",
       "\n",
       "    .dataframe thead th {\n",
       "        text-align: right;\n",
       "    }\n",
       "</style>\n",
       "<table border=\"1\" class=\"dataframe\">\n",
       "  <thead>\n",
       "    <tr style=\"text-align: right;\">\n",
       "      <th></th>\n",
       "      <th>factor</th>\n",
       "      <th>determ</th>\n",
       "      <th>average error</th>\n",
       "      <th>R</th>\n",
       "      <th>statistic</th>\n",
       "      <th>significancy</th>\n",
       "    </tr>\n",
       "  </thead>\n",
       "  <tbody>\n",
       "    <tr>\n",
       "      <th>0</th>\n",
       "      <td>Int64Index([0, 1], dtype='int64')</td>\n",
       "      <td>349.778203</td>\n",
       "      <td>2.042810e-15</td>\n",
       "      <td>0.181136</td>\n",
       "      <td>1.769631</td>\n",
       "      <td>уравнение регрессии НЕ признаётся значимым</td>\n",
       "    </tr>\n",
       "    <tr>\n",
       "      <th>1</th>\n",
       "      <td>Int64Index([0, 2], dtype='int64')</td>\n",
       "      <td>2835.360023</td>\n",
       "      <td>-2.575717e-15</td>\n",
       "      <td>0.763425</td>\n",
       "      <td>25.815861</td>\n",
       "      <td>уравнение регрессии признаётся значимым</td>\n",
       "    </tr>\n",
       "    <tr>\n",
       "      <th>2</th>\n",
       "      <td>Int64Index([0, 3], dtype='int64')</td>\n",
       "      <td>1689.212474</td>\n",
       "      <td>8.082424e-15</td>\n",
       "      <td>0.453297</td>\n",
       "      <td>6.633165</td>\n",
       "      <td>уравнение регрессии признаётся значимым</td>\n",
       "    </tr>\n",
       "    <tr>\n",
       "      <th>3</th>\n",
       "      <td>Int64Index([1, 2], dtype='int64')</td>\n",
       "      <td>1427.812578</td>\n",
       "      <td>-2.229328e-14</td>\n",
       "      <td>0.547948</td>\n",
       "      <td>9.697090</td>\n",
       "      <td>уравнение регрессии признаётся значимым</td>\n",
       "    </tr>\n",
       "    <tr>\n",
       "      <th>4</th>\n",
       "      <td>Int64Index([1, 3], dtype='int64')</td>\n",
       "      <td>701.732736</td>\n",
       "      <td>2.158274e-14</td>\n",
       "      <td>0.606206</td>\n",
       "      <td>12.315168</td>\n",
       "      <td>уравнение регрессии признаётся значимым</td>\n",
       "    </tr>\n",
       "    <tr>\n",
       "      <th>5</th>\n",
       "      <td>Int64Index([2, 3], dtype='int64')</td>\n",
       "      <td>4547.328075</td>\n",
       "      <td>-1.314504e-14</td>\n",
       "      <td>0.622442</td>\n",
       "      <td>13.188797</td>\n",
       "      <td>уравнение регрессии признаётся значимым</td>\n",
       "    </tr>\n",
       "  </tbody>\n",
       "</table>\n",
       "</div>"
      ],
      "text/plain": [
       "                              factor       determ  average error         R  \\\n",
       "0  Int64Index([0, 1], dtype='int64')   349.778203   2.042810e-15  0.181136   \n",
       "1  Int64Index([0, 2], dtype='int64')  2835.360023  -2.575717e-15  0.763425   \n",
       "2  Int64Index([0, 3], dtype='int64')  1689.212474   8.082424e-15  0.453297   \n",
       "3  Int64Index([1, 2], dtype='int64')  1427.812578  -2.229328e-14  0.547948   \n",
       "4  Int64Index([1, 3], dtype='int64')   701.732736   2.158274e-14  0.606206   \n",
       "5  Int64Index([2, 3], dtype='int64')  4547.328075  -1.314504e-14  0.622442   \n",
       "\n",
       "   statistic                                significancy  \n",
       "0   1.769631  уравнение регрессии НЕ признаётся значимым  \n",
       "1  25.815861     уравнение регрессии признаётся значимым  \n",
       "2   6.633165     уравнение регрессии признаётся значимым  \n",
       "3   9.697090     уравнение регрессии признаётся значимым  \n",
       "4  12.315168     уравнение регрессии признаётся значимым  \n",
       "5  13.188797     уравнение регрессии признаётся значимым  "
      ]
     },
     "execution_count": 287,
     "metadata": {},
     "output_type": "execute_result"
    }
   ],
   "source": [
    "a = [(0,1), (0,2), (0,3), (1, 2), (1,3), (2,3)]\n",
    "r2 = 0\n",
    "f1 = 0\n",
    "f2 = 0\n",
    "info = []\n",
    "for item in a:\n",
    "    i, j = item[0], item[1]\n",
    "    df = X[[i, j]]\n",
    "    res = f_chose(df,y)\n",
    "    info.append(f_chose(df,y))\n",
    "    r2_item = res.get('R')\n",
    "    if r2_item > r2:\n",
    "        r2 = r2_item\n",
    "        f1 = i\n",
    "        f2 = j  \n",
    "df = pd.DataFrame(info)\n",
    "print(f'R2 = {r2}, выбрались {i}й и {j}й столбцы')\n",
    "df"
   ]
  },
  {
   "cell_type": "code",
   "execution_count": 266,
   "metadata": {},
   "outputs": [
    {
     "name": "stdout",
     "output_type": "stream",
     "text": [
      "   factor       determ  average error         R  \\\n",
      "0       1   349.778203   2.042810e-15  0.181136   \n",
      "1       1  2835.360023  -2.575717e-15  0.763425   \n",
      "2       1  1689.212474   8.082424e-15  0.453297   \n",
      "3       2  1427.812578  -2.229328e-14  0.547948   \n",
      "4       2   701.732736   2.158274e-14  0.606206   \n",
      "5       3  4547.328075  -1.314504e-14  0.622442   \n",
      "\n",
      "                                 significancy  \n",
      "0  уравнение регрессии НЕ признаётся значимым  \n",
      "1     уравнение регрессии признаётся значимым  \n",
      "2     уравнение регрессии признаётся значимым  \n",
      "3     уравнение регрессии признаётся значимым  \n",
      "4     уравнение регрессии признаётся значимым  \n",
      "5     уравнение регрессии признаётся значимым  \n"
     ]
    }
   ],
   "source": [
    "print(pd.DataFrame(info))"
   ]
  },
  {
   "cell_type": "markdown",
   "metadata": {},
   "source": [
    "__Задача 2__\n",
    "\n",
    "Для проведения A/B-тестирования сайта интернет-магазина были получены следующие данные: страница `A` была посещена 2509 раз, из них 77 закончились совершением покупки, страница `B` была посещена 1465 раз, 60 из них закончились совершением покупки. Является ли значимым отличие конверсии на страницах `A` и `B`?"
   ]
  },
  {
   "cell_type": "code",
   "execution_count": 411,
   "metadata": {},
   "outputs": [
    {
     "data": {
      "text/plain": [
       "(0.03068951773614986, 0.040955631399317405, 0.03447408152994464)"
      ]
     },
     "execution_count": 411,
     "metadata": {},
     "output_type": "execute_result"
    }
   ],
   "source": [
    "A = np.zeros(2509)\n",
    "A[np.arange(77)] = 1\n",
    "B = np.zeros(1465)\n",
    "B[np.arange(60)] = 1\n",
    "AB = np.concatenate([A,B])\n",
    "n1 = 2509\n",
    "n2 = 1465\n",
    "A_mean = A.mean()\n",
    "B_mean = B.mean()\n",
    "AB_mean = AB.mean()\n",
    "A_mean, B_mean, AB_mean"
   ]
  },
  {
   "cell_type": "code",
   "execution_count": 412,
   "metadata": {},
   "outputs": [
    {
     "data": {
      "text/plain": [
       "(0.09748158004016791, 132.17956925035745)"
      ]
     },
     "execution_count": 412,
     "metadata": {},
     "output_type": "execute_result"
    }
   ],
   "source": [
    "SS_b = n1 * (A_mean - AB_mean) ** 2 + n2 * (B_mean - AB_mean) ** 2 \n",
    "\n",
    "SS_w = ((A - A_mean) ** 2).sum() + ((B - B_mean) ** 2).sum() \n",
    "\n",
    "SS_b, SS_w"
   ]
  },
  {
   "cell_type": "code",
   "execution_count": 413,
   "metadata": {},
   "outputs": [
    {
     "data": {
      "text/plain": [
       "(0.09748158004016791, 0.03327783717279895)"
      ]
     },
     "execution_count": 413,
     "metadata": {},
     "output_type": "execute_result"
    }
   ],
   "source": [
    "k = 2\n",
    "n = n1 + n2\n",
    "\n",
    "k1 = k - 1\n",
    "k2 = n - k\n",
    "\n",
    "sigma2_b = SS_b / k1\n",
    "sigma2_w = SS_w / k2\n",
    "\n",
    "sigma2_b, sigma2_w"
   ]
  },
  {
   "cell_type": "code",
   "execution_count": 414,
   "metadata": {},
   "outputs": [
    {
     "data": {
      "text/plain": [
       "2.9293243889013496"
      ]
     },
     "execution_count": 414,
     "metadata": {},
     "output_type": "execute_result"
    }
   ],
   "source": [
    "F = sigma2_b / sigma2_w\n",
    "F"
   ]
  },
  {
   "cell_type": "code",
   "execution_count": 415,
   "metadata": {},
   "outputs": [
    {
     "data": {
      "text/plain": [
       "3.8438010503414866"
      ]
     },
     "execution_count": 415,
     "metadata": {},
     "output_type": "execute_result"
    }
   ],
   "source": [
    "alpha = 0.05\n",
    "\n",
    "t = stats.f.ppf(1 - alpha, k1, k2)\n",
    "t"
   ]
  },
  {
   "cell_type": "markdown",
   "metadata": {},
   "source": [
    "Значение статистики не попало в критическую область следовательно отличие конверсии не являетмя значимым"
   ]
  },
  {
   "cell_type": "markdown",
   "metadata": {},
   "source": [
    "__Задача 3__\n",
    "\n",
    "__Квартет Энскомба__ — популярный в области анализа данных пример наборов данных, у которых практически совпадают все статистические свойства (средние, дисперсии, коэффициенты корреляции, регрессионные линии), однако, существенно отличаются графики. Данный пример призван показать, насколько важна визуализация данных. Датасет представляет собой 4 пары выборок:\n",
    "\n",
    "```\n",
    "{\n",
    "    \"x1\": [10.0, 8.0, 13.0, 9.0, 11.0, 14.0, 6.0, 4.0, 12.0, 7.0, 5.0],\n",
    "    \"y1\": [8.04, 6.95, 7.58, 8.81, 8.33, 9.96, 7.24, 4.26, 10.84, 4.82, 5.68],\n",
    "    \"x2\": [10.0, 8.0, 13.0, 9.0, 11.0, 14.0, 6.0, 4.0, 12.0, 7.0, 5.0],\n",
    "    \"y2\": [9.14, 8.14, 8.74, 8.77, 9.26, 8.1, 6.13, 3.1, 9.13, 7.26, 4.74],\n",
    "    \"x3\": [10.0, 8.0, 13.0, 9.0, 11.0, 14.0, 6.0, 4.0, 12.0, 7.0, 5.0],\n",
    "    \"y3\": [7.46, 6.77, 12.74, 7.11, 7.81, 8.84, 6.08, 5.39, 8.15, 6.42, 5.73],\n",
    "    \"x4\": [8.0, 8.0, 8.0, 8.0, 8.0, 8.0, 8.0, 19.0, 8.0, 8.0, 8.0],\n",
    "    \"y4\": [6.58, 5.76, 7.71, 8.84, 8.47, 7.04, 5.25, 12.5, 5.56, 7.91, 6.89]\n",
    "}\n",
    "```\n",
    "\n",
    "По каждой паре выборок посчитайте:\n",
    "\n",
    "1. выборочное среднее и дисперсию каждой выборки,\n",
    "2. коэффициент корреляции Пирсона и прямую линейной регрессии.\n",
    "\n",
    "Убедившись в том, что они не практически не отличаются, постройте `scatter plot` по каждой паре выборок."
   ]
  },
  {
   "cell_type": "code",
   "execution_count": 288,
   "metadata": {},
   "outputs": [],
   "source": [
    "data = {\n",
    "    \"x1\": [10.0, 8.0, 13.0, 9.0, 11.0, 14.0, 6.0, 4.0, 12.0, 7.0, 5.0],\n",
    "    \"y1\": [8.04, 6.95, 7.58, 8.81, 8.33, 9.96, 7.24, 4.26, 10.84, 4.82, 5.68],\n",
    "    \"x2\": [10.0, 8.0, 13.0, 9.0, 11.0, 14.0, 6.0, 4.0, 12.0, 7.0, 5.0],\n",
    "    \"y2\": [9.14, 8.14, 8.74, 8.77, 9.26, 8.1, 6.13, 3.1, 9.13, 7.26, 4.74],\n",
    "    \"x3\": [10.0, 8.0, 13.0, 9.0, 11.0, 14.0, 6.0, 4.0, 12.0, 7.0, 5.0],\n",
    "    \"y3\": [7.46, 6.77, 12.74, 7.11, 7.81, 8.84, 6.08, 5.39, 8.15, 6.42, 5.73],\n",
    "    \"x4\": [8.0, 8.0, 8.0, 8.0, 8.0, 8.0, 8.0, 19.0, 8.0, 8.0, 8.0],\n",
    "    \"y4\": [6.58, 5.76, 7.71, 8.84, 8.47, 7.04, 5.25, 12.5, 5.56, 7.91, 6.89]\n",
    "}"
   ]
  },
  {
   "cell_type": "code",
   "execution_count": 289,
   "metadata": {},
   "outputs": [],
   "source": [
    "enscomb = pd.DataFrame(data)"
   ]
  },
  {
   "cell_type": "code",
   "execution_count": 300,
   "metadata": {},
   "outputs": [
    {
     "data": {
      "text/html": [
       "<div>\n",
       "<style scoped>\n",
       "    .dataframe tbody tr th:only-of-type {\n",
       "        vertical-align: middle;\n",
       "    }\n",
       "\n",
       "    .dataframe tbody tr th {\n",
       "        vertical-align: top;\n",
       "    }\n",
       "\n",
       "    .dataframe thead th {\n",
       "        text-align: right;\n",
       "    }\n",
       "</style>\n",
       "<table border=\"1\" class=\"dataframe\">\n",
       "  <thead>\n",
       "    <tr style=\"text-align: right;\">\n",
       "      <th></th>\n",
       "      <th>x1</th>\n",
       "      <th>y1</th>\n",
       "      <th>x2</th>\n",
       "      <th>y2</th>\n",
       "      <th>x3</th>\n",
       "      <th>y3</th>\n",
       "      <th>x4</th>\n",
       "      <th>y4</th>\n",
       "    </tr>\n",
       "  </thead>\n",
       "  <tbody>\n",
       "    <tr>\n",
       "      <th>0</th>\n",
       "      <td>10.0</td>\n",
       "      <td>8.04</td>\n",
       "      <td>10.0</td>\n",
       "      <td>9.14</td>\n",
       "      <td>10.0</td>\n",
       "      <td>7.46</td>\n",
       "      <td>8.0</td>\n",
       "      <td>6.58</td>\n",
       "    </tr>\n",
       "    <tr>\n",
       "      <th>1</th>\n",
       "      <td>8.0</td>\n",
       "      <td>6.95</td>\n",
       "      <td>8.0</td>\n",
       "      <td>8.14</td>\n",
       "      <td>8.0</td>\n",
       "      <td>6.77</td>\n",
       "      <td>8.0</td>\n",
       "      <td>5.76</td>\n",
       "    </tr>\n",
       "    <tr>\n",
       "      <th>2</th>\n",
       "      <td>13.0</td>\n",
       "      <td>7.58</td>\n",
       "      <td>13.0</td>\n",
       "      <td>8.74</td>\n",
       "      <td>13.0</td>\n",
       "      <td>12.74</td>\n",
       "      <td>8.0</td>\n",
       "      <td>7.71</td>\n",
       "    </tr>\n",
       "    <tr>\n",
       "      <th>3</th>\n",
       "      <td>9.0</td>\n",
       "      <td>8.81</td>\n",
       "      <td>9.0</td>\n",
       "      <td>8.77</td>\n",
       "      <td>9.0</td>\n",
       "      <td>7.11</td>\n",
       "      <td>8.0</td>\n",
       "      <td>8.84</td>\n",
       "    </tr>\n",
       "    <tr>\n",
       "      <th>4</th>\n",
       "      <td>11.0</td>\n",
       "      <td>8.33</td>\n",
       "      <td>11.0</td>\n",
       "      <td>9.26</td>\n",
       "      <td>11.0</td>\n",
       "      <td>7.81</td>\n",
       "      <td>8.0</td>\n",
       "      <td>8.47</td>\n",
       "    </tr>\n",
       "    <tr>\n",
       "      <th>5</th>\n",
       "      <td>14.0</td>\n",
       "      <td>9.96</td>\n",
       "      <td>14.0</td>\n",
       "      <td>8.10</td>\n",
       "      <td>14.0</td>\n",
       "      <td>8.84</td>\n",
       "      <td>8.0</td>\n",
       "      <td>7.04</td>\n",
       "    </tr>\n",
       "    <tr>\n",
       "      <th>6</th>\n",
       "      <td>6.0</td>\n",
       "      <td>7.24</td>\n",
       "      <td>6.0</td>\n",
       "      <td>6.13</td>\n",
       "      <td>6.0</td>\n",
       "      <td>6.08</td>\n",
       "      <td>8.0</td>\n",
       "      <td>5.25</td>\n",
       "    </tr>\n",
       "    <tr>\n",
       "      <th>7</th>\n",
       "      <td>4.0</td>\n",
       "      <td>4.26</td>\n",
       "      <td>4.0</td>\n",
       "      <td>3.10</td>\n",
       "      <td>4.0</td>\n",
       "      <td>5.39</td>\n",
       "      <td>19.0</td>\n",
       "      <td>12.50</td>\n",
       "    </tr>\n",
       "    <tr>\n",
       "      <th>8</th>\n",
       "      <td>12.0</td>\n",
       "      <td>10.84</td>\n",
       "      <td>12.0</td>\n",
       "      <td>9.13</td>\n",
       "      <td>12.0</td>\n",
       "      <td>8.15</td>\n",
       "      <td>8.0</td>\n",
       "      <td>5.56</td>\n",
       "    </tr>\n",
       "    <tr>\n",
       "      <th>9</th>\n",
       "      <td>7.0</td>\n",
       "      <td>4.82</td>\n",
       "      <td>7.0</td>\n",
       "      <td>7.26</td>\n",
       "      <td>7.0</td>\n",
       "      <td>6.42</td>\n",
       "      <td>8.0</td>\n",
       "      <td>7.91</td>\n",
       "    </tr>\n",
       "    <tr>\n",
       "      <th>10</th>\n",
       "      <td>5.0</td>\n",
       "      <td>5.68</td>\n",
       "      <td>5.0</td>\n",
       "      <td>4.74</td>\n",
       "      <td>5.0</td>\n",
       "      <td>5.73</td>\n",
       "      <td>8.0</td>\n",
       "      <td>6.89</td>\n",
       "    </tr>\n",
       "  </tbody>\n",
       "</table>\n",
       "</div>"
      ],
      "text/plain": [
       "      x1     y1    x2    y2    x3     y3    x4     y4\n",
       "0   10.0   8.04  10.0  9.14  10.0   7.46   8.0   6.58\n",
       "1    8.0   6.95   8.0  8.14   8.0   6.77   8.0   5.76\n",
       "2   13.0   7.58  13.0  8.74  13.0  12.74   8.0   7.71\n",
       "3    9.0   8.81   9.0  8.77   9.0   7.11   8.0   8.84\n",
       "4   11.0   8.33  11.0  9.26  11.0   7.81   8.0   8.47\n",
       "5   14.0   9.96  14.0  8.10  14.0   8.84   8.0   7.04\n",
       "6    6.0   7.24   6.0  6.13   6.0   6.08   8.0   5.25\n",
       "7    4.0   4.26   4.0  3.10   4.0   5.39  19.0  12.50\n",
       "8   12.0  10.84  12.0  9.13  12.0   8.15   8.0   5.56\n",
       "9    7.0   4.82   7.0  7.26   7.0   6.42   8.0   7.91\n",
       "10   5.0   5.68   5.0  4.74   5.0   5.73   8.0   6.89"
      ]
     },
     "execution_count": 300,
     "metadata": {},
     "output_type": "execute_result"
    }
   ],
   "source": [
    "enscomb"
   ]
  },
  {
   "cell_type": "code",
   "execution_count": 416,
   "metadata": {},
   "outputs": [
    {
     "name": "stdout",
     "output_type": "stream",
     "text": [
      " x1 - выборочное среднее 9.0, дисперсия 11.0\n",
      " y1 - выборочное среднее 7.500909090909093, дисперсия 4.127269090909091\n",
      " x2 - выборочное среднее 9.0, дисперсия 11.0\n",
      " y2 - выборочное среднее 7.50090909090909, дисперсия 4.127629090909091\n",
      " x3 - выборочное среднее 9.0, дисперсия 11.0\n",
      " y3 - выборочное среднее 7.5, дисперсия 4.12262\n",
      " x4 - выборочное среднее 9.0, дисперсия 11.0\n",
      " y4 - выборочное среднее 7.500909090909091, дисперсия 4.123249090909091\n"
     ]
    }
   ],
   "source": [
    "for i in enscomb.columns:\n",
    "    col = i\n",
    "    print(f' {col} - выборочное среднее {enscomb[col].mean()}, дисперсия {enscomb[col].var()}')"
   ]
  },
  {
   "cell_type": "code",
   "execution_count": 406,
   "metadata": {},
   "outputs": [],
   "source": [
    "def splt(x, y):\n",
    "    fig, ax = plt.subplots(ncols=1)\n",
    "    fig.set_size_inches(4, 4)\n",
    "    ox = x\n",
    "    oy = b0 + b1 * ox\n",
    "    ax.scatter(x, y)\n",
    "    ax.plot(ox, oy, color='red', alpha=0.5)"
   ]
  },
  {
   "cell_type": "code",
   "execution_count": 407,
   "metadata": {},
   "outputs": [
    {
     "name": "stdout",
     "output_type": "stream",
     "text": [
      "Kpirsn(x1, y1) - 0.81642051634484\n",
      "Kpirsn(x2, y2) - 0.8162365060002428\n",
      "Kpirsn(x3, y3) - 0.8162867394895984\n",
      "Kpirsn(x4, y4) - 0.8165214368885028\n"
     ]
    },
    {
     "data": {
      "image/png": "[encoded data removed]",
      "text/plain": [
       "<Figure size 288x288 with 1 Axes>"
      ]
     },
     "metadata": {},
     "output_type": "display_data"
    },
    {
     "data": {
      "image/png": "[encoded data removed]",
      "text/plain": [
       "<Figure size 288x288 with 1 Axes>"
      ]
     },
     "metadata": {},
     "output_type": "display_data"
    },
    {
     "data": {
      "image/png": "[encoded data removed]",
      "text/plain": [
       "<Figure size 288x288 with 1 Axes>"
      ]
     },
     "metadata": {},
     "output_type": "display_data"
    },
    {
     "data": {
      "image/png": "[encoded data removed]",
      "text/plain": [
       "<Figure size 288x288 with 1 Axes>"
      ]
     },
     "metadata": {},
     "output_type": "display_data"
    }
   ],
   "source": [
    "for i in range(0,len(enscomb.columns),2):\n",
    "    col_x= enscomb.columns[i]\n",
    "    col_y= enscomb.columns[i+1]\n",
    "    x = enscomb[col_x]\n",
    "    y = enscomb[col_y]\n",
    "    print(f'Kpirsn({col_x}, {col_y}) - {np.corrcoef(x, y)[0,1]}')\n",
    "    splt(x,y)"
   ]
  }
 ],
 "metadata": {
  "kernelspec": {
   "display_name": "Python 3",
   "language": "python",
   "name": "python3"
  },
  "language_info": {
   "codemirror_mode": {
    "name": "ipython",
    "version": 3
   },
   "file_extension": ".py",
   "mimetype": "text/x-python",
   "name": "python",
   "nbconvert_exporter": "python",
   "pygments_lexer": "ipython3",
   "version": "3.8.3"
  }
 },
 "nbformat": 4,
 "nbformat_minor": 4
}
